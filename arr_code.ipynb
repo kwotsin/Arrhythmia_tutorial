{
 "cells": [
  {
   "cell_type": "markdown",
   "metadata": {},
   "source": [
    "# Import the necessary libraries to prepare the data\n",
    "You need numpy and pandas to manipulate the data. If you haven't already, use pip to install these libraries."
   ]
  },
  {
   "cell_type": "code",
   "execution_count": 1,
   "metadata": {
    "collapsed": false,
    "scrolled": true
   },
   "outputs": [],
   "source": [
    "import numpy as np\n",
    "import pandas as pd\n",
    "\n",
    "df = pd.read_csv('arrhythmia.data', header = None)\n",
    "y = df.iloc[:, -1] #The last column is the ground-truth label vector\n",
    "X = df.iloc[:,:-1] #The first to second-last columns are the features"
   ]
  },
  {
   "cell_type": "markdown",
   "metadata": {},
   "source": [
    "# Impute the missing data in the dataset\n",
    "As the arrhythmia dataset has missing values, you need to use Imputer from the sklearn library to assign a suitable value to it. Usually, we assign the mean value of the feature to the missing value which is reasonable."
   ]
  },
  {
   "cell_type": "code",
   "execution_count": 2,
   "metadata": {
    "collapsed": true
   },
   "outputs": [],
   "source": [
    "from sklearn.preprocessing import Imputer\n",
    "imp = Imputer(missing_values = 'NaN', strategy = 'mean', axis = 0)\n",
    "X = imp.fit_transform(X)"
   ]
  },
  {
   "cell_type": "markdown",
   "metadata": {},
   "source": [
    "# Normalizing the dataset\n",
    "As the values of the features can range from negative values like -16 to highly positive values like 371, it is best to normalize the data to avoid certain features overly influencing the results."
   ]
  },
  {
   "cell_type": "code",
   "execution_count": 3,
   "metadata": {
    "collapsed": true
   },
   "outputs": [],
   "source": [
    "from sklearn.preprocessing import StandardScaler\n",
    "sc = StandardScaler()\n",
    "X = sc.fit_transform(X)"
   ]
  },
  {
   "cell_type": "markdown",
   "metadata": {},
   "source": [
    "# Splitting the dataset to training and validation datasets\n",
    "Assign 30% of the data randomly to the validation set for cross validation. We use ```random_state = 1``` for consistency in case we need to debug."
   ]
  },
  {
   "cell_type": "code",
   "execution_count": 4,
   "metadata": {
    "collapsed": true
   },
   "outputs": [],
   "source": [
    "from sklearn.cross_validation import train_test_split\n",
    "X_train, X_val, y_train, y_val = train_test_split(X, y, test_size = 0.3, random_state = 1)"
   ]
  },
  {
   "cell_type": "markdown",
   "metadata": {},
   "source": [
    "# Predicting with XGBClassifier\n",
    "We test the results with an untuned XGBClassifier."
   ]
  },
  {
   "cell_type": "code",
   "execution_count": 5,
   "metadata": {
    "collapsed": false
   },
   "outputs": [
    {
     "name": "stdout",
     "output_type": "stream",
     "text": [
      "XGB Train Score: 1.0\n",
      "XGB Val Score: 0.764705882353\n"
     ]
    }
   ],
   "source": [
    "#Load the classifier\n",
    "import xgboost as xgb\n",
    "model = xgb.XGBClassifier(objective=\"multi:softprob\", nthread=-1)\n",
    "\n",
    "#Fit the classifier to the training data\n",
    "model.fit(X_train, y_train)\n",
    "\n",
    "#Predicting the results\n",
    "y_train_xgb = model.predict(X_train)\n",
    "y_pred_xgb = model.predict(X_val)\n",
    "print 'XGB Train Score:', np.mean(y_train == y_train_xgb)\n",
    "print 'XGB Val Score:', np.mean(y_val == y_pred_xgb)"
   ]
  },
  {
   "cell_type": "markdown",
   "metadata": {
    "collapsed": true
   },
   "source": [
    "# Predicting with Random Forest Classifier\n",
    "Using the XGBClassifier, we can see the model has completely overfit the training data. This shows there is a lot of potential for improvement in the XGBClassifier using hyperparameter tuning. We shall now see how a Random Forest Classifier performs in comparison to XGBClassifier"
   ]
  },
  {
   "cell_type": "code",
   "execution_count": 6,
   "metadata": {
    "collapsed": false
   },
   "outputs": [
    {
     "name": "stdout",
     "output_type": "stream",
     "text": [
      "Random Forest Train Score: 0.981012658228\n",
      "Random Forest Val Score: 0.713235294118\n"
     ]
    }
   ],
   "source": [
    "#Load the classifier\n",
    "from sklearn.ensemble import RandomForestClassifier\n",
    "forest = RandomForestClassifier(n_jobs = -1, random_state = 0)\n",
    "\n",
    "#Fit the classifier to the training data.\n",
    "forest.fit(X_train, y_train)\n",
    "\n",
    "#Predicting the results\n",
    "y_train_forest = forest.predict(X_train)\n",
    "y_pred_forest = forest.predict(X_val)\n",
    "print 'Random Forest Train Score:', np.mean(y_train == y_train_forest)\n",
    "print 'Random Forest Val Score:', np.mean(y_val == y_pred_forest)\n"
   ]
  },
  {
   "cell_type": "markdown",
   "metadata": {
    "collapsed": true
   },
   "source": [
    "# Predicting with Logistic Regression\n",
    "We see there is a high variance in the Random Forest model as well, since the training score is significantly higher than the validation score. Nevertheless, a pure XGBClassifier still performs better than a pure Random Forest classifier! What about Logistc Regression, then?"
   ]
  },
  {
   "cell_type": "code",
   "execution_count": 7,
   "metadata": {
    "collapsed": false
   },
   "outputs": [
    {
     "name": "stdout",
     "output_type": "stream",
     "text": [
      "Logistic Regression Train Score: 0.990506329114\n",
      "Logistic Regression Val Score: 0.705882352941\n"
     ]
    }
   ],
   "source": [
    "#Load the classifier\n",
    "from sklearn.linear_model import LogisticRegression\n",
    "lr = LogisticRegression()\n",
    "\n",
    "#Fit the classifier to the training data\n",
    "lr.fit(X_train, y_train)\n",
    "\n",
    "#Predicting the results\n",
    "y_train_lr = lr.predict(X_train)\n",
    "y_pred_lr = lr.predict(X_val)\n",
    "print 'Logistic Regression Train Score:', np.mean(y_train == y_train_lr)\n",
    "print 'Logistic Regression Val Score:', np.mean(y_val == y_pred_lr)"
   ]
  },
  {
   "cell_type": "markdown",
   "metadata": {},
   "source": [
    "# Grid Search and Hyperparameter Tuning (XGBClassifier)\n",
    "We see that the Logistic Regression model performs rather well as well, although not as well as the other 2 classifiers. All 3 models have overfit the training data. We can prevent the overfitting by performing cross validation alongside with a grid search for the hyperparameters to fine-tune the models. This can be done through the GridSearchCV function from the sklearn library. \n",
    "\n",
    "In specific, we would like to focus on 3 main aspects of an XGBClassifier for tuning:\n",
    "1. reg_lambda (L2 Reg)\n",
    "2. Subsampling ratio to control the variance.\n",
    "3. reg_alpha (L1 Reg)\n",
    "\n",
    "We will perform a grid search with cross validation to tune the XGBClassfier model. Note that this will take quite some time, depending on your computer."
   ]
  },
  {
   "cell_type": "code",
   "execution_count": null,
   "metadata": {
    "collapsed": false
   },
   "outputs": [
    {
     "name": "stdout",
     "output_type": "stream",
     "text": [
      "Done\n",
      "Fitting 3 folds for each of 27 candidates, totalling 81 fits\n"
     ]
    },
    {
     "name": "stderr",
     "output_type": "stream",
     "text": [
      "/usr/local/lib/python2.7/dist-packages/sklearn/cross_validation.py:516: Warning: The least populated class in y has only 2 members, which is too few. The minimum number of labels for any class cannot be less than n_folds=3.\n",
      "  % (min_labels, self.n_folds)), Warning)\n"
     ]
    },
    {
     "name": "stdout",
     "output_type": "stream",
     "text": [
      "[CV] subsample=0.8, reg_alpha=0.6, reg_lambda=0.5 ....................\n",
      "[CV] subsample=0.8, reg_alpha=0.6, reg_lambda=0.5 ....................\n",
      "[CV] subsample=0.8, reg_alpha=0.6, reg_lambda=0.5 ....................\n",
      "[CV] subsample=0.9, reg_alpha=0.6, reg_lambda=0.5 ....................\n",
      "[CV] subsample=0.9, reg_alpha=0.6, reg_lambda=0.5 ....................\n",
      "[CV] subsample=1.0, reg_alpha=0.6, reg_lambda=0.5 ....................\n",
      "[CV] subsample=0.9, reg_alpha=0.6, reg_lambda=0.5 ....................\n",
      "[CV] subsample=1.0, reg_alpha=0.6, reg_lambda=0.5 ....................\n",
      "[CV] subsample=1.0, reg_alpha=0.6, reg_lambda=0.5 ....................\n",
      "[CV] subsample=0.8, reg_alpha=0.6, reg_lambda=0.6 ....................\n",
      "[CV] subsample=0.8, reg_alpha=0.6, reg_lambda=0.6 ....................\n",
      "[CV] subsample=0.8, reg_alpha=0.6, reg_lambda=0.6 ....................\n",
      "[CV] subsample=0.9, reg_alpha=0.6, reg_lambda=0.6 ....................\n",
      "[CV] subsample=0.9, reg_alpha=0.6, reg_lambda=0.6 ....................\n",
      "[CV] subsample=0.9, reg_alpha=0.6, reg_lambda=0.6 ....................\n",
      "[CV] subsample=1.0, reg_alpha=0.6, reg_lambda=0.6 ....................\n",
      "[CV] ........... subsample=0.8, reg_alpha=0.6, reg_lambda=0.6 -   3.1s\n",
      "[CV] subsample=1.0, reg_alpha=0.6, reg_lambda=0.6 ....................\n",
      "[CV] ........... subsample=0.8, reg_alpha=0.6, reg_lambda=0.6 -   3.2s\n",
      "[CV] ........... subsample=0.8, reg_alpha=0.6, reg_lambda=0.6 -   3.2s\n",
      "[CV] subsample=0.8, reg_alpha=0.6, reg_lambda=0.7 ....................\n",
      "[CV] subsample=1.0, reg_alpha=0.6, reg_lambda=0.6 ....................\n",
      "[CV] ........... subsample=0.9, reg_alpha=0.6, reg_lambda=0.6 -   3.4s\n",
      "[CV] subsample=0.8, reg_alpha=0.6, reg_lambda=0.7 ....................\n",
      "[CV] ........... subsample=1.0, reg_alpha=0.6, reg_lambda=0.5 -   3.5s\n",
      "[CV] subsample=0.8, reg_alpha=0.6, reg_lambda=0.7 ....................\n",
      "[CV] ........... subsample=0.9, reg_alpha=0.6, reg_lambda=0.6 -   3.5s\n",
      "[CV] subsample=0.9, reg_alpha=0.6, reg_lambda=0.7 ....................\n",
      "[CV] ........... subsample=0.9, reg_alpha=0.6, reg_lambda=0.6 -   3.6s\n",
      "[CV] subsample=0.9, reg_alpha=0.6, reg_lambda=0.7 ....................\n",
      "[CV] ........... subsample=1.0, reg_alpha=0.6, reg_lambda=0.6 -   3.9s\n",
      "[CV] subsample=0.9, reg_alpha=0.6, reg_lambda=0.7 ....................\n",
      "[CV] ........... subsample=1.0, reg_alpha=0.6, reg_lambda=0.6 -   3.3s\n",
      "[CV] subsample=1.0, reg_alpha=0.6, reg_lambda=0.7 ....................\n",
      "[CV] ........... subsample=0.8, reg_alpha=0.6, reg_lambda=0.7 -   3.3s\n",
      "[CV] subsample=1.0, reg_alpha=0.6, reg_lambda=0.7 ....................\n",
      "[CV] ........... subsample=0.8, reg_alpha=0.6, reg_lambda=0.7 -   3.2s\n",
      "[CV] subsample=1.0, reg_alpha=0.6, reg_lambda=0.7 ....................\n",
      "[CV] ........... subsample=1.0, reg_alpha=0.6, reg_lambda=0.6 -   3.5s\n",
      "[CV] subsample=0.8, reg_alpha=0.7, reg_lambda=0.5 ....................\n",
      "[CV] ........... subsample=0.9, reg_alpha=0.6, reg_lambda=0.7 -   3.3s\n",
      "[CV] ........... subsample=0.8, reg_alpha=0.6, reg_lambda=0.7 -   3.3s\n",
      "[CV] subsample=0.8, reg_alpha=0.7, reg_lambda=0.5 ....................\n",
      "[CV] subsample=0.8, reg_alpha=0.7, reg_lambda=0.5 ....................\n",
      "[CV] ........... subsample=0.9, reg_alpha=0.6, reg_lambda=0.7 -   3.3s\n",
      "[CV] subsample=0.9, reg_alpha=0.7, reg_lambda=0.5 ....................\n",
      "[CV] ........... subsample=0.9, reg_alpha=0.6, reg_lambda=0.7 -   3.6s\n",
      "[CV] subsample=0.9, reg_alpha=0.7, reg_lambda=0.5 ....................\n",
      "[CV] ........... subsample=1.0, reg_alpha=0.6, reg_lambda=0.7 -   3.3s\n",
      "[CV] subsample=0.9, reg_alpha=0.7, reg_lambda=0.5 ....................\n",
      "[CV] ........... subsample=0.8, reg_alpha=0.7, reg_lambda=0.5 -   3.2s\n",
      "[CV] subsample=1.0, reg_alpha=0.7, reg_lambda=0.5 ....................\n",
      "[CV] ........... subsample=1.0, reg_alpha=0.6, reg_lambda=0.7 -   3.6s\n",
      "[CV] subsample=1.0, reg_alpha=0.7, reg_lambda=0.5 ....................\n",
      "[CV] ........... subsample=1.0, reg_alpha=0.6, reg_lambda=0.7 -   3.5s\n",
      "[CV] ........... subsample=0.9, reg_alpha=0.7, reg_lambda=0.5 -   3.2s\n",
      "[CV] subsample=1.0, reg_alpha=0.7, reg_lambda=0.5 ....................\n",
      "[CV] subsample=0.8, reg_alpha=0.7, reg_lambda=0.6 ....................\n",
      "[CV] ........... subsample=0.8, reg_alpha=0.7, reg_lambda=0.5 -   3.4s\n",
      "[CV] subsample=0.8, reg_alpha=0.7, reg_lambda=0.6 ....................\n",
      "[CV] ........... subsample=0.8, reg_alpha=0.7, reg_lambda=0.5 -   3.6s\n",
      "[CV] subsample=0.8, reg_alpha=0.7, reg_lambda=0.6 ....................\n",
      "[CV] ........... subsample=0.9, reg_alpha=0.7, reg_lambda=0.5 -   3.2s\n",
      "[CV] subsample=0.9, reg_alpha=0.7, reg_lambda=0.6 ....................\n",
      "[CV] ........... subsample=0.9, reg_alpha=0.7, reg_lambda=0.5 -   3.4s\n",
      "[CV] subsample=0.9, reg_alpha=0.7, reg_lambda=0.6 ....................\n"
     ]
    },
    {
     "name": "stderr",
     "output_type": "stream",
     "text": [
      "[Parallel(n_jobs=-1)]: Done  25 tasks      | elapsed:   13.5s\n"
     ]
    },
    {
     "name": "stdout",
     "output_type": "stream",
     "text": [
      "[CV] ........... subsample=0.8, reg_alpha=0.7, reg_lambda=0.6 -   3.2s\n",
      "[CV] subsample=0.9, reg_alpha=0.7, reg_lambda=0.6 ....................\n",
      "[CV] ........... subsample=1.0, reg_alpha=0.7, reg_lambda=0.5 -   3.4s\n",
      "[CV] subsample=1.0, reg_alpha=0.7, reg_lambda=0.6 ....................\n",
      "[CV] ........... subsample=1.0, reg_alpha=0.7, reg_lambda=0.5 -   3.4s\n",
      "[CV] subsample=1.0, reg_alpha=0.7, reg_lambda=0.6 ....................\n",
      "[CV] ........... subsample=0.8, reg_alpha=0.7, reg_lambda=0.6 -   3.2s\n",
      "[CV] subsample=1.0, reg_alpha=0.7, reg_lambda=0.6 ....................\n",
      "[CV] ........... subsample=1.0, reg_alpha=0.7, reg_lambda=0.5 -   3.5s\n",
      "[CV] subsample=0.8, reg_alpha=0.7, reg_lambda=0.7 ....................\n",
      "[CV] ........... subsample=0.9, reg_alpha=0.7, reg_lambda=0.6 -   3.1s\n",
      "[CV] subsample=0.8, reg_alpha=0.7, reg_lambda=0.7 ....................\n",
      "[CV] ........... subsample=0.8, reg_alpha=0.7, reg_lambda=0.6 -   3.5s\n",
      "[CV] subsample=0.8, reg_alpha=0.7, reg_lambda=0.7 ....................\n",
      "[CV] ........... subsample=0.9, reg_alpha=0.7, reg_lambda=0.6 -   3.3s\n",
      "[CV] subsample=0.9, reg_alpha=0.7, reg_lambda=0.7 ....................\n",
      "[CV] ........... subsample=0.9, reg_alpha=0.7, reg_lambda=0.6 -   3.4s\n",
      "[CV] ........... subsample=1.0, reg_alpha=0.7, reg_lambda=0.6 -   3.4s\n",
      "[CV] subsample=0.9, reg_alpha=0.7, reg_lambda=0.7 ....................\n",
      "[CV] subsample=0.9, reg_alpha=0.7, reg_lambda=0.7 ....................\n",
      "[CV] ........... subsample=0.8, reg_alpha=0.7, reg_lambda=0.7 -   3.3s\n",
      "[CV] ........... subsample=1.0, reg_alpha=0.7, reg_lambda=0.6 -   3.5s\n",
      "[CV] subsample=1.0, reg_alpha=0.7, reg_lambda=0.7 ....................\n",
      "[CV] subsample=1.0, reg_alpha=0.7, reg_lambda=0.7 ....................\n",
      "[CV] ........... subsample=0.8, reg_alpha=0.7, reg_lambda=0.7 -   3.2s\n",
      "[CV] subsample=1.0, reg_alpha=0.7, reg_lambda=0.7 ....................\n",
      "[CV] ........... subsample=1.0, reg_alpha=0.7, reg_lambda=0.6 -   3.8s\n",
      "[CV] subsample=0.8, reg_alpha=0.8, reg_lambda=0.5 ....................\n",
      "[CV] ........... subsample=0.8, reg_alpha=0.7, reg_lambda=0.7 -   3.4s\n",
      "[CV] subsample=0.8, reg_alpha=0.8, reg_lambda=0.5 ....................\n",
      "[CV] ........... subsample=0.9, reg_alpha=0.7, reg_lambda=0.7 -   3.2s\n",
      "[CV] subsample=0.8, reg_alpha=0.8, reg_lambda=0.5 ....................\n",
      "[CV] ........... subsample=0.9, reg_alpha=0.7, reg_lambda=0.7 -   3.4s\n",
      "[CV] subsample=0.9, reg_alpha=0.8, reg_lambda=0.5 ....................\n",
      "[CV] ........... subsample=1.0, reg_alpha=0.7, reg_lambda=0.7 -   3.3s\n",
      "[CV] subsample=0.9, reg_alpha=0.8, reg_lambda=0.5 ....................\n",
      "[CV] ........... subsample=0.9, reg_alpha=0.7, reg_lambda=0.7 -   3.5s\n",
      "[CV] subsample=0.9, reg_alpha=0.8, reg_lambda=0.5 ....................\n",
      "[CV] ........... subsample=1.0, reg_alpha=0.7, reg_lambda=0.7 -   3.4s\n",
      "[CV] subsample=1.0, reg_alpha=0.8, reg_lambda=0.5 ....................\n",
      "[CV] ........... subsample=1.0, reg_alpha=0.7, reg_lambda=0.7 -   3.5s\n",
      "[CV] subsample=1.0, reg_alpha=0.8, reg_lambda=0.5 ....................\n",
      "[CV] ........... subsample=0.8, reg_alpha=0.8, reg_lambda=0.5 -   3.2s\n",
      "[CV] subsample=1.0, reg_alpha=0.8, reg_lambda=0.5 ....................\n",
      "[CV] ........... subsample=0.8, reg_alpha=0.8, reg_lambda=0.5 -   3.3s\n",
      "[CV] subsample=0.8, reg_alpha=0.8, reg_lambda=0.6 ....................\n",
      "[CV] ........... subsample=0.8, reg_alpha=0.8, reg_lambda=0.5 -   3.5s\n",
      "[CV] subsample=0.8, reg_alpha=0.8, reg_lambda=0.6 ....................\n",
      "[CV] ........... subsample=0.9, reg_alpha=0.8, reg_lambda=0.5 -   3.2s\n",
      "[CV] subsample=0.8, reg_alpha=0.8, reg_lambda=0.6 ....................\n",
      "[CV] ........... subsample=0.9, reg_alpha=0.8, reg_lambda=0.5 -   3.3s\n",
      "[CV] subsample=0.9, reg_alpha=0.8, reg_lambda=0.6 ....................\n",
      "[CV] ........... subsample=1.0, reg_alpha=0.8, reg_lambda=0.5 -   3.3s\n",
      "[CV] subsample=0.9, reg_alpha=0.8, reg_lambda=0.6 ....................\n",
      "[CV] ........... subsample=0.9, reg_alpha=0.8, reg_lambda=0.5 -   3.5s\n",
      "[CV] subsample=0.9, reg_alpha=0.8, reg_lambda=0.6 ....................\n",
      "[CV] ........... subsample=1.0, reg_alpha=0.8, reg_lambda=0.5 -   3.3s\n",
      "[CV] subsample=1.0, reg_alpha=0.8, reg_lambda=0.6 ....................\n",
      "[CV] ........... subsample=1.0, reg_alpha=0.8, reg_lambda=0.5 -   3.5s\n",
      "[CV] ........... subsample=0.8, reg_alpha=0.8, reg_lambda=0.6 -   3.3s\n",
      "[CV] subsample=1.0, reg_alpha=0.8, reg_lambda=0.6 ....................\n",
      "[CV] subsample=1.0, reg_alpha=0.8, reg_lambda=0.6 ....................\n",
      "[CV] ........... subsample=0.8, reg_alpha=0.8, reg_lambda=0.6 -   3.4s\n",
      "[CV] subsample=0.8, reg_alpha=0.8, reg_lambda=0.7 ....................\n",
      "[CV] ........... subsample=0.9, reg_alpha=0.8, reg_lambda=0.6 -   3.2s\n",
      "[CV] subsample=0.8, reg_alpha=0.8, reg_lambda=0.7 ....................\n",
      "[CV] ........... subsample=0.8, reg_alpha=0.8, reg_lambda=0.6 -   3.4s\n",
      "[CV] subsample=0.8, reg_alpha=0.8, reg_lambda=0.7 ....................\n",
      "[CV] ........... subsample=0.9, reg_alpha=0.8, reg_lambda=0.6 -   3.3s\n",
      "[CV] subsample=0.9, reg_alpha=0.8, reg_lambda=0.7 ....................\n",
      "[CV] ........... subsample=0.9, reg_alpha=0.8, reg_lambda=0.6 -   3.3s\n",
      "[CV] ........... subsample=1.0, reg_alpha=0.8, reg_lambda=0.6 -   3.2s\n",
      "[CV] subsample=0.9, reg_alpha=0.8, reg_lambda=0.7 ....................\n",
      "[CV] subsample=0.9, reg_alpha=0.8, reg_lambda=0.7 ....................\n",
      "[CV] ........... subsample=1.0, reg_alpha=0.8, reg_lambda=0.6 -   3.4s\n",
      "[CV] subsample=1.0, reg_alpha=0.8, reg_lambda=0.7 ....................\n",
      "[CV] ........... subsample=1.0, reg_alpha=0.8, reg_lambda=0.6 -   3.5s\n",
      "[CV] subsample=1.0, reg_alpha=0.8, reg_lambda=0.7 ....................\n",
      "[CV] ........... subsample=0.8, reg_alpha=0.8, reg_lambda=0.7 -   3.1s\n",
      "[CV] subsample=1.0, reg_alpha=0.8, reg_lambda=0.7 ....................\n",
      "[CV] ........... subsample=0.8, reg_alpha=0.8, reg_lambda=0.7 -   3.2s\n",
      "[CV] ........... subsample=0.8, reg_alpha=0.8, reg_lambda=0.7 -   3.3s\n",
      "[CV] ........... subsample=0.9, reg_alpha=0.8, reg_lambda=0.7 -   3.2s\n",
      "[CV] ........... subsample=0.9, reg_alpha=0.8, reg_lambda=0.7 -   3.2s\n",
      "[CV] ........... subsample=0.9, reg_alpha=0.8, reg_lambda=0.7 -   3.4s\n",
      "[CV] ........... subsample=1.0, reg_alpha=0.8, reg_lambda=0.7 -   3.0s\n",
      "[CV] ........... subsample=1.0, reg_alpha=0.8, reg_lambda=0.7 -   3.0s\n",
      "[CV] ........... subsample=1.0, reg_alpha=0.8, reg_lambda=0.7 -   1.4s\n"
     ]
    }
   ],
   "source": [
    "#Load the classifier\n",
    "import xgboost as xgb\n",
    "model = xgb.XGBClassifier(nthread=-1)\n",
    "\n",
    "#Set up a new classifier that will do a grid search\n",
    "from sklearn.grid_search import GridSearchCV\n",
    "clf = GridSearchCV(\n",
    "    model,\n",
    "    {\n",
    "        'subsample': [0.8,0.9,1.0],\n",
    "        'reg_lambda': [0.5,0.6,0.7],\n",
    "        'reg_alpha': [0.6,0.7,0.8],\n",
    "    },\n",
    "    verbose=2,\n",
    "    n_jobs=-1,\n",
    ")\n",
    "print \"Done\"\n",
    "#Fit the classifier to the training data, which will randomly search for hyperparameters\n",
    "clf.fit(X_train, y_train)\n",
    "\n",
    "print \"DONE\"\n"
   ]
  },
  {
   "cell_type": "code",
   "execution_count": null,
   "metadata": {
    "collapsed": true
   },
   "outputs": [],
   "source": [
    "#Predicting the results\n",
    "y_train_xgb = clf.predict(X_train)\n",
    "y_pred_xgb = clf.predict(X_val)\n",
    "print 'XGB Train Score:', np.mean(y_train == y_train_xgb)\n",
    "print 'XGB Val Score:', np.mean(y_val == y_pred_xgb)"
   ]
  }
 ],
 "metadata": {
  "kernelspec": {
   "display_name": "Python 2",
   "language": "python",
   "name": "python2"
  },
  "language_info": {
   "codemirror_mode": {
    "name": "ipython",
    "version": 2
   },
   "file_extension": ".py",
   "mimetype": "text/x-python",
   "name": "python",
   "nbconvert_exporter": "python",
   "pygments_lexer": "ipython2",
   "version": "2.7.12"
  }
 },
 "nbformat": 4,
 "nbformat_minor": 0
}
